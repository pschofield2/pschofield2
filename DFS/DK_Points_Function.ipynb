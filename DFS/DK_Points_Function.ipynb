{
  "nbformat": 4,
  "nbformat_minor": 0,
  "metadata": {
    "colab": {
      "name": "DFS_Project.ipynb",
      "provenance": [],
      "collapsed_sections": [],
      "authorship_tag": "ABX9TyM5OC1k2j9mUCGIijEjTJTd",
      "include_colab_link": true
    },
    "kernelspec": {
      "name": "python3",
      "display_name": "Python 3"
    },
    "language_info": {
      "name": "python"
    }
  },
  "cells": [
    {
      "cell_type": "markdown",
      "metadata": {
        "id": "view-in-github",
        "colab_type": "text"
      },
      "source": [
        "<a href=\"https://colab.research.google.com/github/pschofield2/pschofield2/blob/main/DFS/DK_Points_Function.ipynb\" target=\"_parent\"><img src=\"https://colab.research.google.com/assets/colab-badge.svg\" alt=\"Open In Colab\"/></a>"
      ]
    },
    {
      "cell_type": "markdown",
      "metadata": {
        "id": "pSBgIxIsG1bF"
      },
      "source": [
        "## Offense\n",
        "* Passing TD: +4 Pts\n",
        "* 25 Passing Yards: +1 Pt (+0.04 Pts/ Yards)\n",
        "* 300+ Yard Passing Game: +3 Pts\n",
        "* Interception: -1 Pt\n",
        "* Rushing TD: +6 Pts\n",
        "* 10 Rushing Yards: +1 Pt (+0.1 Pts/Yard)\n",
        "* 100+ Yard Rushing Game: +3 Pts\n",
        "* Receiving TD: +6 Pts\n",
        "* 10 Receiving Yards: +1 Pt (+0.1 Pts/Yard)\n",
        "* 100+ Receiving Yard Game: +3 Pts\n",
        "* Reception: +1 Pt\n",
        "* Punt/Kickoff/FG Return for TD: +6 Pts\n",
        "* Fumble Lost: -1 Pt\n",
        "* 2 Pt Conversion (Pass, Run, or Catch): +2 Pts\n",
        "* Offensive Fumble Recovery TD: +6 Pts"
      ]
    },
    {
      "cell_type": "code",
      "metadata": {
        "id": "3OWxv7NWG7M-"
      },
      "source": [
        "def get_points(pass_td=0,\n",
        "               pass_yds=0,\n",
        "               interc=0,\n",
        "               rushtd=0,\n",
        "               rush_yds=0,\n",
        "               rec_yds=0,\n",
        "               rec_td=0,\n",
        "               recs=0,\n",
        "               fumble=0,\n",
        "               two_pc=0,\n",
        "               ofr=0):\n",
        "\n",
        "  def pass_yds_300(pass_yds):\n",
        "    if pass_yds>=300:\n",
        "      pts=3\n",
        "    else:\n",
        "      pts = 0\n",
        "    return pts\n",
        "\n",
        "  def rush_yds_100(rush_yds):\n",
        "    if rush_yds>=100:\n",
        "      pts=3\n",
        "    else:\n",
        "      pts = 0\n",
        "    return pts\n",
        "  \n",
        "  def rec_yds_100(rec_yds):\n",
        "    if pass_yds>=100:\n",
        "      pts=3\n",
        "    else:\n",
        "      pts = 0\n",
        "    return pts\n",
        "\n",
        "  pass_td_points = 4 * pass_td\n",
        "  pass_yds_points = 0.04 * pass_yds\n",
        "  pass_yds_300_points = pass_yds_300(pass_yds)\n",
        "  int_points = -1 * interc\n",
        "  rushtd_points = 6 * rushtd\n",
        "  rush_yds_points = .1 * rush_yds\n",
        "  rush_100_points = rush_yds_100(rush_yds)\n",
        "  rectd_points = 6. * rec_td\n",
        "  rec_yds_points = .1 * rec_yds\n",
        "  rec_points = 1 * recs\n",
        "  rec_100_points = rec_yds_100(rec_yds)\n",
        "  fumble_lost_points = -1 * fumble\n",
        "  two_pt_conv_points = 2 * two_pc\n",
        "  off_fumrec_points = 6 * ofr\n",
        "\n",
        "  return pass_td_points+pass_yds_points+int_points+rushtd_points+rush_yds_points+rectd_points+rec_yds_points+rec_points+fumble_lost_points + two_pt_conv_points + off_fumrec_points"
      ],
      "execution_count": 1,
      "outputs": []
    },
    {
      "cell_type": "code",
      "metadata": {
        "colab": {
          "base_uri": "https://localhost:8080/"
        },
        "id": "LuQcZ_FYG-YG",
        "outputId": "1aaa9d19-9095-45cd-a2d9-df8a6842be57"
      },
      "source": [
        "# Mark Andrews DK stats baltimore vs miami - 6 recs 63 yds 1 TD - 18.3 points \n",
        "# get_points(pass_td=0,pass_yds=0,interc=0,rushtd=0,rush_yds=0,rec_yds=63,rec_td=1, recs=6,fumble=0,two_pc=0,ofr=0)\n",
        "get_points(rec_yds=63,recs=6,rec_td=1)"
      ],
      "execution_count": 3,
      "outputs": [
        {
          "output_type": "execute_result",
          "data": {
            "text/plain": [
              "18.3"
            ]
          },
          "metadata": {},
          "execution_count": 3
        }
      ]
    }
  ]
}